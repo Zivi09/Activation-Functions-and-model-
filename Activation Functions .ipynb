{
 "cells": [
  {
   "cell_type": "markdown",
   "metadata": {},
   "source": [
    "Activation Functions"
   ]
  },
  {
   "cell_type": "markdown",
   "metadata": {},
   "source": [
    "--> Binary Step\n",
    "--> Linear\n",
    "--> Sigmoid\n",
    "--> Tanh\n",
    "--> ReLU\n",
    "--> Leaky ReLU\n",
    "--> Parameterised ReLU\n",
    "--> Exponential Linear Unit\n",
    "--> Swish\n",
    "--> Softmax\n",
    "Activation Function Theory Best\n",
    "Activation Function Theory\n",
    "Extra Practice Code"
   ]
  },
  {
   "cell_type": "markdown",
   "metadata": {},
   "source": [
    "Binary Step Function\n",
    "\n",
    "f(x) = 1, x>=0\n",
    "\n",
    "= 0, x<0"
   ]
  },
  {
   "cell_type": "code",
   "execution_count": 8,
   "metadata": {},
   "outputs": [
    {
     "data": {
      "text/plain": [
       "0"
      ]
     },
     "execution_count": 8,
     "metadata": {},
     "output_type": "execute_result"
    }
   ],
   "source": [
    "def binary_step(x):\n",
    "    if x<0:\n",
    "        return 0\n",
    "    else:\n",
    "        return 1\n",
    "#binary_step(5)\n",
    "binary_step(-1)"
   ]
  },
  {
   "cell_type": "markdown",
   "metadata": {},
   "source": [
    "Linear Function"
   ]
  }
 ],
 "metadata": {
  "kernelspec": {
   "display_name": "Python 3",
   "language": "python",
   "name": "python3"
  },
  "language_info": {
   "codemirror_mode": {
    "name": "ipython",
    "version": 3
   },
   "file_extension": ".py",
   "mimetype": "text/x-python",
   "name": "python",
   "nbconvert_exporter": "python",
   "pygments_lexer": "ipython3",
   "version": "3.11.5"
  }
 },
 "nbformat": 4,
 "nbformat_minor": 2
}
